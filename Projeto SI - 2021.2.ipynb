{
 "cells": [
  {
   "cell_type": "markdown",
   "metadata": {
    "id": "MGuZtOq_Za2T"
   },
   "source": [
    "Download do dataset"
   ]
  },
  {
   "cell_type": "code",
   "execution_count": 81,
   "metadata": {
    "executionInfo": {
     "elapsed": 3171,
     "status": "ok",
     "timestamp": 1620266487729,
     "user": {
      "displayName": "Johnny Herbert Muniz Nunes",
      "photoUrl": "",
      "userId": "13025444018835965894"
     },
     "user_tz": 180
    },
    "id": "66-OIBonVv7u"
   },
   "outputs": [],
   "source": [
    "import pandas as pd\n",
    "import numpy as np\n",
    "from sklearn.model_selection import train_test_split, GridSearchCV\n",
    "from sklearn.tree import DecisionTreeClassifier\n",
    "from sklearn.neighbors import KNeighborsClassifier\n",
    "from sklearn.neural_network import MLPClassifier\n",
    "from sklearn.preprocessing import StandardScaler\n",
    "from sklearn.metrics import classification_report, confusion_matrix, accuracy_score\n",
    "import matplotlib.pyplot as plt\n",
    "import seaborn as sns"
   ]
  },
  {
   "cell_type": "markdown",
   "metadata": {
    "id": "2YDA7L5-dX5g"
   },
   "source": [
    "Carregar os dados em um dataframe do pandas."
   ]
  },
  {
   "cell_type": "code",
   "execution_count": 82,
   "metadata": {
    "colab": {
     "base_uri": "https://localhost:8080/",
     "height": 204
    },
    "executionInfo": {
     "elapsed": 746,
     "status": "ok",
     "timestamp": 1620150998639,
     "user": {
      "displayName": "Johnny Herbert Muniz Nunes",
      "photoUrl": "",
      "userId": "13025444018835965894"
     },
     "user_tz": 180
    },
    "id": "gPnKImCbZfgC",
    "outputId": "06385eee-4991-4d13-dc90-a63c2dfd45a2"
   },
   "outputs": [
    {
     "data": {
      "text/html": [
       "<div>\n",
       "<style scoped>\n",
       "    .dataframe tbody tr th:only-of-type {\n",
       "        vertical-align: middle;\n",
       "    }\n",
       "\n",
       "    .dataframe tbody tr th {\n",
       "        vertical-align: top;\n",
       "    }\n",
       "\n",
       "    .dataframe thead th {\n",
       "        text-align: right;\n",
       "    }\n",
       "</style>\n",
       "<table border=\"1\" class=\"dataframe\">\n",
       "  <thead>\n",
       "    <tr style=\"text-align: right;\">\n",
       "      <th></th>\n",
       "      <th>AREA</th>\n",
       "      <th>PERIMETER</th>\n",
       "      <th>MAJORAXIS</th>\n",
       "      <th>MINORAXIS</th>\n",
       "      <th>ECCENTRICITY</th>\n",
       "      <th>CONVEX_AREA</th>\n",
       "      <th>EXTENT</th>\n",
       "      <th>CLASS</th>\n",
       "    </tr>\n",
       "  </thead>\n",
       "  <tbody>\n",
       "    <tr>\n",
       "      <th>0</th>\n",
       "      <td>15231.0</td>\n",
       "      <td>525.578979</td>\n",
       "      <td>229.749878</td>\n",
       "      <td>85.093788</td>\n",
       "      <td>0.928882</td>\n",
       "      <td>15617.0</td>\n",
       "      <td>0.572896</td>\n",
       "      <td>Cammeo</td>\n",
       "    </tr>\n",
       "    <tr>\n",
       "      <th>1</th>\n",
       "      <td>14656.0</td>\n",
       "      <td>494.311005</td>\n",
       "      <td>206.020065</td>\n",
       "      <td>91.730972</td>\n",
       "      <td>0.895405</td>\n",
       "      <td>15072.0</td>\n",
       "      <td>0.615436</td>\n",
       "      <td>Cammeo</td>\n",
       "    </tr>\n",
       "    <tr>\n",
       "      <th>2</th>\n",
       "      <td>14634.0</td>\n",
       "      <td>501.122009</td>\n",
       "      <td>214.106781</td>\n",
       "      <td>87.768288</td>\n",
       "      <td>0.912118</td>\n",
       "      <td>14954.0</td>\n",
       "      <td>0.693259</td>\n",
       "      <td>Cammeo</td>\n",
       "    </tr>\n",
       "    <tr>\n",
       "      <th>3</th>\n",
       "      <td>13176.0</td>\n",
       "      <td>458.342987</td>\n",
       "      <td>193.337387</td>\n",
       "      <td>87.448395</td>\n",
       "      <td>0.891861</td>\n",
       "      <td>13368.0</td>\n",
       "      <td>0.640669</td>\n",
       "      <td>Cammeo</td>\n",
       "    </tr>\n",
       "    <tr>\n",
       "      <th>4</th>\n",
       "      <td>14688.0</td>\n",
       "      <td>507.166992</td>\n",
       "      <td>211.743378</td>\n",
       "      <td>89.312454</td>\n",
       "      <td>0.906691</td>\n",
       "      <td>15262.0</td>\n",
       "      <td>0.646024</td>\n",
       "      <td>Cammeo</td>\n",
       "    </tr>\n",
       "  </tbody>\n",
       "</table>\n",
       "</div>"
      ],
      "text/plain": [
       "      AREA   PERIMETER   MAJORAXIS  MINORAXIS  ECCENTRICITY  CONVEX_AREA  \\\n",
       "0  15231.0  525.578979  229.749878  85.093788      0.928882      15617.0   \n",
       "1  14656.0  494.311005  206.020065  91.730972      0.895405      15072.0   \n",
       "2  14634.0  501.122009  214.106781  87.768288      0.912118      14954.0   \n",
       "3  13176.0  458.342987  193.337387  87.448395      0.891861      13368.0   \n",
       "4  14688.0  507.166992  211.743378  89.312454      0.906691      15262.0   \n",
       "\n",
       "     EXTENT   CLASS  \n",
       "0  0.572896  Cammeo  \n",
       "1  0.615436  Cammeo  \n",
       "2  0.693259  Cammeo  \n",
       "3  0.640669  Cammeo  \n",
       "4  0.646024  Cammeo  "
      ]
     },
     "execution_count": 82,
     "metadata": {},
     "output_type": "execute_result"
    }
   ],
   "source": [
    "url = 'https://raw.githubusercontent.com/Paulosmelo/SI-Data/main/Rice_Osmancik_Cammeo_Dataset.xlsx'\n",
    "dataset = pd.read_excel(url)\n",
    "dataset.head()"
   ]
  },
  {
   "cell_type": "markdown",
   "metadata": {
    "id": "_wIG7ZrerfJp"
   },
   "source": [
    "Separar o dataset original para o das classes (y) e atributos (X)"
   ]
  },
  {
   "cell_type": "code",
   "execution_count": 83,
   "metadata": {
    "id": "DnBcWCZkZl7d"
   },
   "outputs": [],
   "source": [
    "y = dataset['CLASS']\n",
    "X = dataset.drop(['CLASS'],axis=1)"
   ]
  },
  {
   "cell_type": "markdown",
   "metadata": {
    "id": "JLTG3Z9FrrOS"
   },
   "source": [
    "Dividir em conjunto de treinamento e teste.\n",
    "Nessa parte, também é possivel dividir um conjunto de validação ou fazer uma validação cruzada."
   ]
  },
  {
   "cell_type": "code",
   "execution_count": 84,
   "metadata": {
    "id": "5cV_dN9tZnVx"
   },
   "outputs": [],
   "source": [
    "X_train, X_test, y_train, y_test = train_test_split(X, y, test_size=0.25, random_state=42)"
   ]
  },
  {
   "cell_type": "markdown",
   "metadata": {
    "id": "WwXaQn1rvzjI"
   },
   "source": [
    "# Arvore de decisão (DT)"
   ]
  },
  {
   "cell_type": "markdown",
   "metadata": {
    "id": "ZcrL62QQtaKN"
   },
   "source": [
    "Instanciando e treinando com o conjunto de treinamento para o modelo básico da arvore de decisão"
   ]
  },
  {
   "cell_type": "code",
   "execution_count": 85,
   "metadata": {
    "id": "RCfNE9JrrSWo"
   },
   "outputs": [],
   "source": [
    "tree = DecisionTreeClassifier()\n",
    "tree.fit(X_train, y_train);"
   ]
  },
  {
   "cell_type": "markdown",
   "metadata": {
    "id": "uqcoIWFKuAG2"
   },
   "source": [
    "**Verificando resultado:**"
   ]
  },
  {
   "cell_type": "code",
   "execution_count": 86,
   "metadata": {
    "colab": {
     "base_uri": "https://localhost:8080/"
    },
    "executionInfo": {
     "elapsed": 869,
     "status": "ok",
     "timestamp": 1620071524738,
     "user": {
      "displayName": "Johnny Herbert Muniz Nunes",
      "photoUrl": "",
      "userId": "13025444018835965894"
     },
     "user_tz": 180
    },
    "id": "MLBjFaz2tMBH",
    "outputId": "b7ba8973-6533-41e4-8641-27bd736ec412"
   },
   "outputs": [
    {
     "name": "stdout",
     "output_type": "stream",
     "text": [
      "              precision    recall  f1-score   support\n",
      "\n",
      "      Cammeo       0.88      0.84      0.86       430\n",
      "    Osmancik       0.88      0.91      0.89       523\n",
      "\n",
      "    accuracy                           0.88       953\n",
      "   macro avg       0.88      0.88      0.88       953\n",
      "weighted avg       0.88      0.88      0.88       953\n",
      "\n"
     ]
    }
   ],
   "source": [
    "y_pred = tree.predict(X_test)\n",
    "print(classification_report(y_test, y_pred))"
   ]
  },
  {
   "cell_type": "code",
   "execution_count": 87,
   "metadata": {},
   "outputs": [
    {
     "name": "stdout",
     "output_type": "stream",
     "text": [
      "0.8782791185729276\n"
     ]
    }
   ],
   "source": [
    "print(accuracy_score(y_test, y_pred))"
   ]
  },
  {
   "cell_type": "code",
   "execution_count": 88,
   "metadata": {},
   "outputs": [],
   "source": [
    "error = []\n",
    "\n",
    "for i in range(2, 80):  \n",
    "    tree = DecisionTreeClassifier()\n",
    "    tree.fit(X_train, y_train)\n",
    "    pred_i = tree.predict(X_test)\n",
    "    error.append(np.mean(pred_i != y_test))"
   ]
  },
  {
   "cell_type": "code",
   "execution_count": 89,
   "metadata": {},
   "outputs": [
    {
     "data": {
      "text/plain": [
       "Text(0, 0.5, 'Mean Error')"
      ]
     },
     "execution_count": 89,
     "metadata": {},
     "output_type": "execute_result"
    },
    {
     "data": {
      "image/png": "[encoded data removed]",
      "text/plain": [
       "<Figure size 864x432 with 1 Axes>"
      ]
     },
     "metadata": {
      "needs_background": "light"
     },
     "output_type": "display_data"
    }
   ],
   "source": [
    "plt.figure(figsize=(12, 6))  \n",
    "plt.plot(range(2, 80), error, color='red', linestyle='dashed', marker='o',  \n",
    "         markerfacecolor='blue', markersize=6)\n",
    "plt.title('Error Rate min_samples_split Value')  \n",
    "plt.xlabel('min_samples_split Value')  \n",
    "plt.ylabel('Mean Error') "
   ]
  },
  {
   "cell_type": "markdown",
   "metadata": {
    "id": "RUAxo9xPxjyd"
   },
   "source": [
    "**Analisando a arvore de decisão**"
   ]
  },
  {
   "cell_type": "code",
   "execution_count": 90,
   "metadata": {
    "id": "ptXwGwYduq6v"
   },
   "outputs": [],
   "source": [
    "params = {\n",
    "    'criterion': ['gini','entropy'],\n",
    "    'splitter': ['random', 'best'],\n",
    "    'min_samples_split': [2,5,6,10,20,70,80],\n",
    "    'min_samples_leaf': [1,2,5,7,9,10,20,30,60],\n",
    "    'min_weight_fraction_leaf': [0.0,0.1,0.2,0.3,0.4,0.5]\n",
    "}"
   ]
  },
  {
   "cell_type": "code",
   "execution_count": 91,
   "metadata": {
    "id": "4MaOSFpD07LF"
   },
   "outputs": [],
   "source": [
    "gridS = GridSearchCV(estimator=tree,param_grid=params)\n",
    "gridS.fit(X_train,y_train)\n",
    "grid_results = pd.concat([pd.DataFrame(gridS.cv_results_[\"params\"]),pd.DataFrame(gridS.cv_results_[\"mean_test_score\"], columns=[\"accuracy\"])],axis=1)\n",
    "grid_results.sort_values(by=['accuracy'], inplace=True)"
   ]
  },
  {
   "cell_type": "markdown",
   "metadata": {
    "id": "urwiJwlS5b8y"
   },
   "source": [
    "A seguir vamos verificar os resultados, ordenados com base na acurácia, de algumas combinações dos valores armazenados nos parâmetros descritos anteriormente"
   ]
  },
  {
   "cell_type": "code",
   "execution_count": 92,
   "metadata": {
    "colab": {
     "base_uri": "https://localhost:8080/",
     "height": 419
    },
    "executionInfo": {
     "elapsed": 690,
     "status": "ok",
     "timestamp": 1620072502017,
     "user": {
      "displayName": "Johnny Herbert Muniz Nunes",
      "photoUrl": "",
      "userId": "13025444018835965894"
     },
     "user_tz": 180
    },
    "id": "Rk_FMaLN2C1l",
    "outputId": "0b89d49a-51c4-4a08-8e0b-1daa86c04be3"
   },
   "outputs": [
    {
     "data": {
      "text/html": [
       "<div>\n",
       "<style scoped>\n",
       "    .dataframe tbody tr th:only-of-type {\n",
       "        vertical-align: middle;\n",
       "    }\n",
       "\n",
       "    .dataframe tbody tr th {\n",
       "        vertical-align: top;\n",
       "    }\n",
       "\n",
       "    .dataframe thead th {\n",
       "        text-align: right;\n",
       "    }\n",
       "</style>\n",
       "<table border=\"1\" class=\"dataframe\">\n",
       "  <thead>\n",
       "    <tr style=\"text-align: right;\">\n",
       "      <th></th>\n",
       "      <th>criterion</th>\n",
       "      <th>min_samples_leaf</th>\n",
       "      <th>min_samples_split</th>\n",
       "      <th>min_weight_fraction_leaf</th>\n",
       "      <th>splitter</th>\n",
       "      <th>accuracy</th>\n",
       "    </tr>\n",
       "  </thead>\n",
       "  <tbody>\n",
       "    <tr>\n",
       "      <th>382</th>\n",
       "      <td>gini</td>\n",
       "      <td>9</td>\n",
       "      <td>10</td>\n",
       "      <td>0.5</td>\n",
       "      <td>random</td>\n",
       "      <td>0.579979</td>\n",
       "    </tr>\n",
       "    <tr>\n",
       "      <th>826</th>\n",
       "      <td>entropy</td>\n",
       "      <td>1</td>\n",
       "      <td>70</td>\n",
       "      <td>0.5</td>\n",
       "      <td>random</td>\n",
       "      <td>0.579979</td>\n",
       "    </tr>\n",
       "    <tr>\n",
       "      <th>1198</th>\n",
       "      <td>entropy</td>\n",
       "      <td>10</td>\n",
       "      <td>5</td>\n",
       "      <td>0.5</td>\n",
       "      <td>random</td>\n",
       "      <td>0.579979</td>\n",
       "    </tr>\n",
       "    <tr>\n",
       "      <th>106</th>\n",
       "      <td>gini</td>\n",
       "      <td>2</td>\n",
       "      <td>5</td>\n",
       "      <td>0.5</td>\n",
       "      <td>random</td>\n",
       "      <td>0.579979</td>\n",
       "    </tr>\n",
       "    <tr>\n",
       "      <th>226</th>\n",
       "      <td>gini</td>\n",
       "      <td>5</td>\n",
       "      <td>20</td>\n",
       "      <td>0.5</td>\n",
       "      <td>random</td>\n",
       "      <td>0.579979</td>\n",
       "    </tr>\n",
       "    <tr>\n",
       "      <th>...</th>\n",
       "      <td>...</td>\n",
       "      <td>...</td>\n",
       "      <td>...</td>\n",
       "      <td>...</td>\n",
       "      <td>...</td>\n",
       "      <td>...</td>\n",
       "    </tr>\n",
       "    <tr>\n",
       "      <th>1296</th>\n",
       "      <td>entropy</td>\n",
       "      <td>20</td>\n",
       "      <td>10</td>\n",
       "      <td>0.0</td>\n",
       "      <td>random</td>\n",
       "      <td>0.922997</td>\n",
       "    </tr>\n",
       "    <tr>\n",
       "      <th>540</th>\n",
       "      <td>gini</td>\n",
       "      <td>20</td>\n",
       "      <td>10</td>\n",
       "      <td>0.0</td>\n",
       "      <td>random</td>\n",
       "      <td>0.924050</td>\n",
       "    </tr>\n",
       "    <tr>\n",
       "      <th>468</th>\n",
       "      <td>gini</td>\n",
       "      <td>10</td>\n",
       "      <td>20</td>\n",
       "      <td>0.0</td>\n",
       "      <td>random</td>\n",
       "      <td>0.925100</td>\n",
       "    </tr>\n",
       "    <tr>\n",
       "      <th>1176</th>\n",
       "      <td>entropy</td>\n",
       "      <td>10</td>\n",
       "      <td>2</td>\n",
       "      <td>0.0</td>\n",
       "      <td>random</td>\n",
       "      <td>0.926149</td>\n",
       "    </tr>\n",
       "    <tr>\n",
       "      <th>1380</th>\n",
       "      <td>entropy</td>\n",
       "      <td>30</td>\n",
       "      <td>10</td>\n",
       "      <td>0.0</td>\n",
       "      <td>random</td>\n",
       "      <td>0.926151</td>\n",
       "    </tr>\n",
       "  </tbody>\n",
       "</table>\n",
       "<p>1512 rows × 6 columns</p>\n",
       "</div>"
      ],
      "text/plain": [
       "     criterion  min_samples_leaf  min_samples_split  min_weight_fraction_leaf  \\\n",
       "382       gini                 9                 10                       0.5   \n",
       "826    entropy                 1                 70                       0.5   \n",
       "1198   entropy                10                  5                       0.5   \n",
       "106       gini                 2                  5                       0.5   \n",
       "226       gini                 5                 20                       0.5   \n",
       "...        ...               ...                ...                       ...   \n",
       "1296   entropy                20                 10                       0.0   \n",
       "540       gini                20                 10                       0.0   \n",
       "468       gini                10                 20                       0.0   \n",
       "1176   entropy                10                  2                       0.0   \n",
       "1380   entropy                30                 10                       0.0   \n",
       "\n",
       "     splitter  accuracy  \n",
       "382    random  0.579979  \n",
       "826    random  0.579979  \n",
       "1198   random  0.579979  \n",
       "106    random  0.579979  \n",
       "226    random  0.579979  \n",
       "...       ...       ...  \n",
       "1296   random  0.922997  \n",
       "540    random  0.924050  \n",
       "468    random  0.925100  \n",
       "1176   random  0.926149  \n",
       "1380   random  0.926151  \n",
       "\n",
       "[1512 rows x 6 columns]"
      ]
     },
     "execution_count": 92,
     "metadata": {},
     "output_type": "execute_result"
    }
   ],
   "source": [
    "grid_results"
   ]
  },
  {
   "cell_type": "markdown",
   "metadata": {
    "id": "57pCAT8v6Xf-"
   },
   "source": [
    "Vamos verificar o melhor e o pior resultado da combinação dos valores dos parâmetros"
   ]
  },
  {
   "cell_type": "markdown",
   "metadata": {
    "id": "5FtSYnBq6lAN"
   },
   "source": [
    "**Melhor resultado:**"
   ]
  },
  {
   "cell_type": "code",
   "execution_count": 93,
   "metadata": {
    "colab": {
     "base_uri": "https://localhost:8080/",
     "height": 80
    },
    "executionInfo": {
     "elapsed": 747,
     "status": "ok",
     "timestamp": 1620073835292,
     "user": {
      "displayName": "Johnny Herbert Muniz Nunes",
      "photoUrl": "",
      "userId": "13025444018835965894"
     },
     "user_tz": 180
    },
    "id": "9ZAsjKu56u5u",
    "outputId": "85efaed8-1d55-4eb5-8073-2dbcd3a8363b"
   },
   "outputs": [
    {
     "data": {
      "text/html": [
       "<div>\n",
       "<style scoped>\n",
       "    .dataframe tbody tr th:only-of-type {\n",
       "        vertical-align: middle;\n",
       "    }\n",
       "\n",
       "    .dataframe tbody tr th {\n",
       "        vertical-align: top;\n",
       "    }\n",
       "\n",
       "    .dataframe thead th {\n",
       "        text-align: right;\n",
       "    }\n",
       "</style>\n",
       "<table border=\"1\" class=\"dataframe\">\n",
       "  <thead>\n",
       "    <tr style=\"text-align: right;\">\n",
       "      <th></th>\n",
       "      <th>criterion</th>\n",
       "      <th>min_samples_leaf</th>\n",
       "      <th>min_samples_split</th>\n",
       "      <th>min_weight_fraction_leaf</th>\n",
       "      <th>splitter</th>\n",
       "      <th>accuracy</th>\n",
       "    </tr>\n",
       "  </thead>\n",
       "  <tbody>\n",
       "    <tr>\n",
       "      <th>1380</th>\n",
       "      <td>entropy</td>\n",
       "      <td>30</td>\n",
       "      <td>10</td>\n",
       "      <td>0.0</td>\n",
       "      <td>random</td>\n",
       "      <td>0.926151</td>\n",
       "    </tr>\n",
       "  </tbody>\n",
       "</table>\n",
       "</div>"
      ],
      "text/plain": [
       "     criterion  min_samples_leaf  min_samples_split  min_weight_fraction_leaf  \\\n",
       "1380   entropy                30                 10                       0.0   \n",
       "\n",
       "     splitter  accuracy  \n",
       "1380   random  0.926151  "
      ]
     },
     "execution_count": 93,
     "metadata": {},
     "output_type": "execute_result"
    }
   ],
   "source": [
    "best_result = grid_results[grid_results['accuracy'] == grid_results['accuracy'].max()]\n",
    "best_result.head()"
   ]
  },
  {
   "cell_type": "markdown",
   "metadata": {
    "id": "K6gQqHsP612T"
   },
   "source": [
    "**Pior resultado:**"
   ]
  },
  {
   "cell_type": "code",
   "execution_count": 94,
   "metadata": {
    "colab": {
     "base_uri": "https://localhost:8080/",
     "height": 204
    },
    "executionInfo": {
     "elapsed": 781,
     "status": "ok",
     "timestamp": 1620073873701,
     "user": {
      "displayName": "Johnny Herbert Muniz Nunes",
      "photoUrl": "",
      "userId": "13025444018835965894"
     },
     "user_tz": 180
    },
    "id": "wIHyYKlM6_rO",
    "outputId": "c4fe5275-cf6d-4b13-c16b-84b3c59f3069"
   },
   "outputs": [
    {
     "data": {
      "text/html": [
       "<div>\n",
       "<style scoped>\n",
       "    .dataframe tbody tr th:only-of-type {\n",
       "        vertical-align: middle;\n",
       "    }\n",
       "\n",
       "    .dataframe tbody tr th {\n",
       "        vertical-align: top;\n",
       "    }\n",
       "\n",
       "    .dataframe thead th {\n",
       "        text-align: right;\n",
       "    }\n",
       "</style>\n",
       "<table border=\"1\" class=\"dataframe\">\n",
       "  <thead>\n",
       "    <tr style=\"text-align: right;\">\n",
       "      <th></th>\n",
       "      <th>criterion</th>\n",
       "      <th>min_samples_leaf</th>\n",
       "      <th>min_samples_split</th>\n",
       "      <th>min_weight_fraction_leaf</th>\n",
       "      <th>splitter</th>\n",
       "      <th>accuracy</th>\n",
       "    </tr>\n",
       "  </thead>\n",
       "  <tbody>\n",
       "    <tr>\n",
       "      <th>382</th>\n",
       "      <td>gini</td>\n",
       "      <td>9</td>\n",
       "      <td>10</td>\n",
       "      <td>0.5</td>\n",
       "      <td>random</td>\n",
       "      <td>0.579979</td>\n",
       "    </tr>\n",
       "    <tr>\n",
       "      <th>826</th>\n",
       "      <td>entropy</td>\n",
       "      <td>1</td>\n",
       "      <td>70</td>\n",
       "      <td>0.5</td>\n",
       "      <td>random</td>\n",
       "      <td>0.579979</td>\n",
       "    </tr>\n",
       "    <tr>\n",
       "      <th>1198</th>\n",
       "      <td>entropy</td>\n",
       "      <td>10</td>\n",
       "      <td>5</td>\n",
       "      <td>0.5</td>\n",
       "      <td>random</td>\n",
       "      <td>0.579979</td>\n",
       "    </tr>\n",
       "    <tr>\n",
       "      <th>106</th>\n",
       "      <td>gini</td>\n",
       "      <td>2</td>\n",
       "      <td>5</td>\n",
       "      <td>0.5</td>\n",
       "      <td>random</td>\n",
       "      <td>0.579979</td>\n",
       "    </tr>\n",
       "    <tr>\n",
       "      <th>226</th>\n",
       "      <td>gini</td>\n",
       "      <td>5</td>\n",
       "      <td>20</td>\n",
       "      <td>0.5</td>\n",
       "      <td>random</td>\n",
       "      <td>0.579979</td>\n",
       "    </tr>\n",
       "  </tbody>\n",
       "</table>\n",
       "</div>"
      ],
      "text/plain": [
       "     criterion  min_samples_leaf  min_samples_split  min_weight_fraction_leaf  \\\n",
       "382       gini                 9                 10                       0.5   \n",
       "826    entropy                 1                 70                       0.5   \n",
       "1198   entropy                10                  5                       0.5   \n",
       "106       gini                 2                  5                       0.5   \n",
       "226       gini                 5                 20                       0.5   \n",
       "\n",
       "     splitter  accuracy  \n",
       "382    random  0.579979  \n",
       "826    random  0.579979  \n",
       "1198   random  0.579979  \n",
       "106    random  0.579979  \n",
       "226    random  0.579979  "
      ]
     },
     "execution_count": 94,
     "metadata": {},
     "output_type": "execute_result"
    }
   ],
   "source": [
    "worse_result = grid_results[grid_results['accuracy'] == grid_results['accuracy'].min()]\n",
    "worse_result.head()"
   ]
  },
  {
   "cell_type": "markdown",
   "metadata": {
    "id": "7P4y5mANY6Fz"
   },
   "source": [
    "**Conclusões**"
   ]
  },
  {
   "cell_type": "markdown",
   "metadata": {
    "id": "quifhJrGY_ld"
   },
   "source": [
    "1. **Entropy** ou **gini** não apresenta grandes diferenças na divisão entre os dois;\n",
    "2. Apesar de não apresentarem uma diferença muito grande, o metodo **best** é minimamente mais consistente que o metodo **random**, tendo uma valor mínimo de acurácia acima de 72%;\n",
    "3. Ao aumentar o valor de **min_samples_split** a tendencia é que a eficiencia diminua, porém a accurancy aumenta de forma significativa. Após 72 a taxa de erro se fixou em um valor bem baixo;\n",
    "4. Ao aumentar o valor de **min_samples_leaf** a tendencia é que a eficiencia diminua. Ao chegar em 45 obtivemos as menores taxas de erros e melhores resultados, porém, depois de 53 a taxa de erro começou a aumentar;\n",
    "5. Ao aumentar o valor de **min_weight_fraction_leaf** a tendencia é que a eficiencia diminua;\n",
    "\n",
    "\n"
   ]
  }
 ],
 "metadata": {
  "colab": {
   "name": "Johnny Herbert - ProjetoSI20201.ipynb",
   "provenance": [
    {
     "file_id": "13ALXZ3itd5aO498mZGDoIl3rCfenvnwi",
     "timestamp": 1615348317513
    }
   ]
  },
  "kernelspec": {
   "display_name": "Python 3 (ipykernel)",
   "language": "python",
   "name": "python3"
  },
  "language_info": {
   "codemirror_mode": {
    "name": "ipython",
    "version": 3
   },
   "file_extension": ".py",
   "mimetype": "text/x-python",
   "name": "python",
   "nbconvert_exporter": "python",
   "pygments_lexer": "ipython3",
   "version": "3.8.10"
  }
 },
 "nbformat": 4,
 "nbformat_minor": 1
}
